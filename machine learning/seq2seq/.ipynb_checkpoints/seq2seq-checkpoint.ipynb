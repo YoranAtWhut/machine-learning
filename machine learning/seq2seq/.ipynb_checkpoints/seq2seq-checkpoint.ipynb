{
 "cells": [
  {
   "cell_type": "code",
   "execution_count": 62,
   "metadata": {
    "collapsed": true
   },
   "outputs": [],
   "source": [
    "from distutils.version import LooseVersion"
   ]
  },
  {
   "cell_type": "code",
   "execution_count": 63,
   "metadata": {},
   "outputs": [
    {
     "name": "stdout",
     "output_type": "stream",
     "text": [
      "tensorflow version: 1.3.0\n"
     ]
    }
   ],
   "source": [
    "import tensorflow as tf\n",
    "from tensorflow.python.layers.core import Dense\n",
    "\n",
    "#check tensorflow version\n",
    "assert LooseVersion(tf.__version__) >= LooseVersion('1.1'),'please use tensorflow version 1.1 or newer'\n",
    "print('tensorflow version: {}'.format(tf.__version__))"
   ]
  },
  {
   "cell_type": "code",
   "execution_count": 64,
   "metadata": {
    "collapsed": true
   },
   "outputs": [],
   "source": [
    "import numpy as np\n",
    "import time\n",
    "\n",
    "with open('data/letters_source.txt','r',encoding='utf8') as f:\n",
    "    source_data = f.read()\n",
    "\n",
    "with open('data/letters_target.txt','r',encoding='utf8') as f:\n",
    "    target_data = f.read()"
   ]
  },
  {
   "cell_type": "code",
   "execution_count": 65,
   "metadata": {},
   "outputs": [
    {
     "data": {
      "text/plain": [
       "['bsaqq',\n",
       " 'npy',\n",
       " 'lbwuj',\n",
       " 'bqv',\n",
       " 'kial',\n",
       " 'tddam',\n",
       " 'edxpjpg',\n",
       " 'nspv',\n",
       " 'huloz',\n",
       " 'kmclq']"
      ]
     },
     "execution_count": 65,
     "metadata": {},
     "output_type": "execute_result"
    }
   ],
   "source": [
    "# data preview\n",
    "source_data.split('\\n')[:10]"
   ]
  },
  {
   "cell_type": "code",
   "execution_count": 66,
   "metadata": {},
   "outputs": [
    {
     "data": {
      "text/plain": [
       "['abqqs',\n",
       " 'npy',\n",
       " 'bjluw',\n",
       " 'bqv',\n",
       " 'aikl',\n",
       " 'addmt',\n",
       " 'degjppx',\n",
       " 'npsv',\n",
       " 'hlouz',\n",
       " 'cklmq']"
      ]
     },
     "execution_count": 66,
     "metadata": {},
     "output_type": "execute_result"
    }
   ],
   "source": [
    "target_data.split('\\n')[:10]"
   ]
  },
  {
   "cell_type": "code",
   "execution_count": 67,
   "metadata": {
    "collapsed": true
   },
   "outputs": [],
   "source": [
    "#data preprocess\n",
    "def extract_character_vocab(data):\n",
    "    '''\n",
    "    construct mapping table\n",
    "    '''\n",
    "    special_words = ['<PAD>','<UNK>','<GO>','<EOS>']\n",
    "    \n",
    "    set_words = list(set([character for line in data.split('\\n') for character in line]))\n",
    "    # add the four special words into the vocabulary\n",
    "    int_to_vocab = {idx:word for idx,word in enumerate(special_words+set_words)}\n",
    "    vocab_to_int = {word:idx for idx,word in int_to_vocab.items()}\n",
    "    \n",
    "    return int_to_vocab,vocab_to_int"
   ]
  },
  {
   "cell_type": "code",
   "execution_count": 68,
   "metadata": {
    "collapsed": true
   },
   "outputs": [],
   "source": [
    "#construct the mapping table\n",
    "source_int_to_letter,source_letter_to_int = extract_character_vocab(source_data)\n",
    "target_int_to_letter,target_letter_to_int = extract_character_vocab(target_data)\n",
    "\n",
    "#transform the raw data\n",
    "source_int = [[source_letter_to_int.get(letter,source_letter_to_int['<UNK>'])\n",
    "              for letter in line] for line in source_data.split('\\n')]\n",
    "target_int = [[target_letter_to_int.get(letter,target_letter_to_int['<UNK>'])\n",
    "              for letter in line] for line in target_data.split('\\n')]"
   ]
  },
  {
   "cell_type": "code",
   "execution_count": 69,
   "metadata": {},
   "outputs": [
    {
     "data": {
      "text/plain": [
       "[[26, 25, 13, 19, 19],\n",
       " [18, 4, 9],\n",
       " [20, 26, 28, 11, 5],\n",
       " [26, 19, 6],\n",
       " [24, 10, 13, 20],\n",
       " [17, 29, 29, 13, 23],\n",
       " [12, 29, 8, 4, 5, 4, 27],\n",
       " [18, 25, 4, 6],\n",
       " [21, 11, 20, 14, 15],\n",
       " [24, 23, 16, 20, 19]]"
      ]
     },
     "execution_count": 69,
     "metadata": {},
     "output_type": "execute_result"
    }
   ],
   "source": [
    "#check the result of the transformation\n",
    "source_int[:10]"
   ]
  },
  {
   "cell_type": "code",
   "execution_count": 70,
   "metadata": {},
   "outputs": [
    {
     "data": {
      "text/plain": [
       "[[13, 26, 19, 19, 25],\n",
       " [18, 4, 9],\n",
       " [26, 5, 20, 11, 28],\n",
       " [26, 19, 6],\n",
       " [13, 10, 24, 20],\n",
       " [13, 29, 29, 23, 17],\n",
       " [29, 12, 27, 5, 4, 4, 8],\n",
       " [18, 4, 25, 6],\n",
       " [21, 20, 14, 11, 15],\n",
       " [16, 24, 20, 23, 19]]"
      ]
     },
     "execution_count": 70,
     "metadata": {},
     "output_type": "execute_result"
    }
   ],
   "source": [
    "target_int[:10]"
   ]
  },
  {
   "cell_type": "code",
   "execution_count": 71,
   "metadata": {
    "collapsed": true
   },
   "outputs": [],
   "source": [
    "#construct the model"
   ]
  },
  {
   "cell_type": "code",
   "execution_count": 72,
   "metadata": {
    "collapsed": true
   },
   "outputs": [],
   "source": [
    "#input layer\n",
    "def get_inputs():\n",
    "    '''\n",
    "    model input tensor\n",
    "    '''\n",
    "    inputs = tf.placeholder(tf.int32,[None,None],name='inputs')\n",
    "    targets = tf.placeholder(tf.int32,[None,None],name='targets')\n",
    "    learning_rate = tf.placeholder(tf.float32,name='learning_rate')\n",
    "    \n",
    "    # define the maximum length of the sequence\n",
    "    target_sequence_length = tf.placeholder(tf.int32,(None,),name='target_sequence_length')\n",
    "    max_target_sequence_length = tf.reduce_max(target_sequence_length,name='max_target_len')\n",
    "    source_sequence_length = tf.placeholder(tf.int32,(None,),name='source_sequence_length')\n",
    "    \n",
    "    return inputs,targets,learning_rate,target_sequence_length,max_target_sequence_length,source_sequence_length"
   ]
  },
  {
   "cell_type": "code",
   "execution_count": 73,
   "metadata": {
    "collapsed": true
   },
   "outputs": [],
   "source": [
    "def get_encoder_layer(input_data,rnn_size,num_layers,\n",
    "                     source_sequence_length,source_vocab_size,\n",
    "                     encoding_embedding_size):\n",
    "    '''\n",
    "    construct Encoder layer\n",
    "    \n",
    "    params definition:\n",
    "    - input_data: input tensor\n",
    "    - rnn_size: rnn hidden units number\n",
    "    - num_layers: the number of layers\n",
    "    - source_sequence_length: the size of source data\n",
    "    - encoding_embedding_size: the size of embedding\n",
    "    '''\n",
    "    # Encoder embedding\n",
    "    encoder_embed_input = tf.contrib.layers.embed_sequence(input_data,source_vocab_size,\n",
    "                                                          encoding_embedding_size)\n",
    "    \n",
    "    # RNN cell\n",
    "    def get_lstm_cell(rnn_size):\n",
    "        lstm_cell = tf.contrib.rnn.LSTMCell(rnn_size,initializer=tf.random_uniform_initializer(-0.1,0.1,seed=2))\n",
    "        return lstm_cell\n",
    "    \n",
    "    cell = tf.contrib.rnn.MultiRNNCell([get_lstm_cell(rnn_size) for _ in range(num_layers)])\n",
    "    \n",
    "    encoder_output,encoder_state = tf.nn.dynamic_rnn(cell,encoder_embed_input,\n",
    "                                                    sequence_length=source_sequence_length,dtype=tf.float32)\n",
    "    return encoder_output,encoder_state"
   ]
  },
  {
   "cell_type": "code",
   "execution_count": 74,
   "metadata": {
    "collapsed": true
   },
   "outputs": [],
   "source": [
    "def process_decoder_input(data,vocab_to_int,batch_size):\n",
    "    '''\n",
    "    supply <GO>, remove the last character\n",
    "    '''\n",
    "    # cut the last character\n",
    "    # tf.strided_slice(input_, start, end, strides)\n",
    "    ending = tf.strided_slice(data,[0,0],[batch_size,-1],[1,1])\n",
    "    decoder_input = tf.concat([tf.fill([batch_size,1],vocab_to_int['<GO>']),ending],1)\n",
    "    \n",
    "    return decoder_input"
   ]
  },
  {
   "cell_type": "code",
   "execution_count": 75,
   "metadata": {
    "collapsed": true
   },
   "outputs": [],
   "source": [
    "def decoding_layer(target_letter_to_int,decoding_embedding_size,num_layers,rnn_size,\n",
    "                  target_sequence_length,max_target_sequence,encoder_state,decoder_input):\n",
    "    '''\n",
    "    construct the decoder layer\n",
    "    \n",
    "    @params:\n",
    "    - target_letter_to_int: target data\n",
    "    - decoding_embedding_size: embed size\n",
    "    - num_layers: the number of RNN layers\n",
    "    - rnn_size: the number of rnn units\n",
    "    - target_sequence_length: target data length\n",
    "    - max_target_sequence_length: the maximum length of target data sequences\n",
    "    - encoder_state: the state vector of encoder RNN\n",
    "    - decoder_input: decoder input\n",
    "    '''\n",
    "    # 1. Embedding\n",
    "    target_vocab_size = len(target_letter_to_int)\n",
    "    decoder_embeddings = tf.Variable(tf.random_uniform([target_vocab_size,decoding_embedding_size]))\n",
    "    decoder_embed_input = tf.nn.embedding_lookup(decoder_embeddings,decoder_input)\n",
    "    \n",
    "    # 2. construct the rnn cell of decoder\n",
    "    def get_decoder_cell(rnn_size):\n",
    "        decoder_cell = tf.contrib.rnn.LSTMCell(rnn_size,initializer=tf.random_uniform_initializer(-0.1,0.1,seed=2))\n",
    "        return decoder_cell\n",
    "    cell = tf.contrib.rnn.MultiRNNCell([get_decoder_cell(rnn_size) for _ in range(num_layers)])\n",
    "    \n",
    "    # 3. construct the fully connected layer\n",
    "    output_layer = Dense(target_vocab_size,kernel_initializer=tf.truncated_normal_initializer(mean=0.0,stddev=0.1))\n",
    "    \n",
    "    # 4. training decoder\n",
    "    with tf.variable_scope('decoder'):\n",
    "        training_helper = tf.contrib.seq2seq.TrainingHelper(inputs=decoder_embed_input,\n",
    "                                                            sequence_length=target_sequence_length,time_major=False)\n",
    "        # construct decoder\n",
    "        training_decoder = tf.contrib.seq2seq.BasicDecoder(cell,training_helper,encoder_state,\n",
    "                                                          output_layer)\n",
    "        training_decoder_output, _ = tf.contrib.seq2seq.dynamic_decode(training_decoder,\n",
    "                                                                       impute_finished=True,\n",
    "                                                                       maximum_iterations=max_target_sequence_length)\n",
    "    \n",
    "    # 5. Predicting decoder\n",
    "    # share parameters with training\n",
    "    with tf.variable_scope('decoder',reuse=True):\n",
    "        # construct a constant tensor which has the size of batch_size\n",
    "        start_tokens = tf.tile(tf.constant([target_letter_to_int['<GO>']],dtype=tf.int32),[batch_size],name='start_tokens')\n",
    "        predicting_helper = tf.contrib.seq2seq.GreedyEmbeddingHelper(decoder_embeddings,\n",
    "                                                                    start_tokens,\n",
    "                                                                    target_letter_to_int['<EOS>'])\n",
    "        predicting_decoder = tf.contrib.seq2seq.BasicDecoder(cell,predicting_helper,\n",
    "                                                            encoder_state,\n",
    "                                                            output_layer)\n",
    "        predicting_decoder_output,_ = tf.contrib.seq2seq.dynamic_decode(predicting_decoder,\n",
    "                                                                       impute_finished=True,\n",
    "                                                                       maximum_iterations=max_target_sequence_length)\n",
    "        \n",
    "    return training_decoder_output,predicting_decoder_output        "
   ]
  },
  {
   "cell_type": "code",
   "execution_count": 76,
   "metadata": {
    "collapsed": true
   },
   "outputs": [],
   "source": [
    "def seq2seq_model(input_data,targets,lr,target_sequence_length,\n",
    "                 max_target_sequence_length,source_sequence_length,\n",
    "                 source_vocab_size,target_vocab_size,encoder_embedding_size,\n",
    "                 decoder_embedding_size,rnn_size,num_layers):\n",
    "    \n",
    "    # get the state from encoder\n",
    "    _,encoder_state = get_encoder_layer(input_data,rnn_size,num_layers,\n",
    "                                       source_sequence_length,source_vocab_size,\n",
    "                                       encoding_embedding_size)\n",
    "    # the inputs of decoder\n",
    "    decoder_input = process_decoder_input(targets,target_letter_to_int,batch_size)\n",
    "    \n",
    "    # pass the state vector to decoder\n",
    "    training_decoder_output,predicting_decoder_output = decoding_layer(target_letter_to_int,\n",
    "                                                                      decoding_embedding_size,\n",
    "                                                                      num_layers,\n",
    "                                                                      rnn_size,\n",
    "                                                                      target_sequence_length,\n",
    "                                                                      max_target_sequence_length,\n",
    "                                                                      encoder_state,\n",
    "                                                                      decoder_input)\n",
    "    return training_decoder_output,predicting_decoder_output"
   ]
  },
  {
   "cell_type": "code",
   "execution_count": 77,
   "metadata": {
    "collapsed": true
   },
   "outputs": [],
   "source": [
    "# hyperparams\n",
    "# number of epochs\n",
    "epochs = 60\n",
    "# batch size\n",
    "batch_size = 128\n",
    "# rnn size\n",
    "rnn_size = 50\n",
    "# number of layers\n",
    "num_layers = 2\n",
    "# embedding_size\n",
    "encoding_embedding_size = 15\n",
    "decoding_embedding_size = 15\n",
    "# learning rate\n",
    "learning_rate = 0.001"
   ]
  },
  {
   "cell_type": "code",
   "execution_count": 78,
   "metadata": {},
   "outputs": [
    {
     "ename": "ValueError",
     "evalue": "too many values to unpack (expected 2)",
     "output_type": "error",
     "traceback": [
      "\u001b[0;31m---------------------------------------------------------------------------\u001b[0m",
      "\u001b[0;31mValueError\u001b[0m                                Traceback (most recent call last)",
      "\u001b[0;32m<ipython-input-78-95b9f5b0357f>\u001b[0m in \u001b[0;36m<module>\u001b[0;34m()\u001b[0m\n\u001b[1;32m     18\u001b[0m                                                                      \u001b[0mdecoding_embedding_size\u001b[0m\u001b[0;34m,\u001b[0m\u001b[0;34m\u001b[0m\u001b[0m\n\u001b[1;32m     19\u001b[0m                                                                      \u001b[0mrnn_size\u001b[0m\u001b[0;34m,\u001b[0m\u001b[0;34m\u001b[0m\u001b[0m\n\u001b[0;32m---> 20\u001b[0;31m                                                                      num_layers)\n\u001b[0m\u001b[1;32m     21\u001b[0m \u001b[0;34m\u001b[0m\u001b[0m\n\u001b[1;32m     22\u001b[0m     \u001b[0mtraining_logits\u001b[0m \u001b[0;34m=\u001b[0m \u001b[0mtf\u001b[0m\u001b[0;34m.\u001b[0m\u001b[0midentity\u001b[0m\u001b[0;34m(\u001b[0m\u001b[0mtraining_decoder_output\u001b[0m\u001b[0;34m.\u001b[0m\u001b[0mrnn_output\u001b[0m\u001b[0;34m,\u001b[0m\u001b[0;34m'logits'\u001b[0m\u001b[0;34m)\u001b[0m\u001b[0;34m\u001b[0m\u001b[0m\n",
      "\u001b[0;32m<ipython-input-76-15cc9e67774d>\u001b[0m in \u001b[0;36mseq2seq_model\u001b[0;34m(input_data, targets, lr, target_sequence_length, max_target_sequence_length, source_sequence_length, source_vocab_size, target_vocab_size, encoder_embedding_size, decoder_embedding_size, rnn_size, num_layers)\u001b[0m\n\u001b[1;32m     19\u001b[0m                                                                       \u001b[0mmax_target_sequence_length\u001b[0m\u001b[0;34m,\u001b[0m\u001b[0;34m\u001b[0m\u001b[0m\n\u001b[1;32m     20\u001b[0m                                                                       \u001b[0mencoder_state\u001b[0m\u001b[0;34m,\u001b[0m\u001b[0;34m\u001b[0m\u001b[0m\n\u001b[0;32m---> 21\u001b[0;31m                                                                       decoder_input)\n\u001b[0m\u001b[1;32m     22\u001b[0m     \u001b[0;32mreturn\u001b[0m \u001b[0mtraining_decoder_output\u001b[0m\u001b[0;34m,\u001b[0m\u001b[0mpredicting_decoder_output\u001b[0m\u001b[0;34m\u001b[0m\u001b[0m\n",
      "\u001b[0;32m<ipython-input-75-3aa63b3c9e4b>\u001b[0m in \u001b[0;36mdecoding_layer\u001b[0;34m(target_letter_to_int, decoding_embedding_size, num_layers, rnn_size, target_sequence_length, max_target_sequence, encoder_state, decoder_input)\u001b[0m\n\u001b[1;32m     37\u001b[0m         training_decoder_output, _ = tf.contrib.seq2seq.dynamic_decode(training_decoder,\n\u001b[1;32m     38\u001b[0m                                                                        \u001b[0mimpute_finished\u001b[0m\u001b[0;34m=\u001b[0m\u001b[0;32mTrue\u001b[0m\u001b[0;34m,\u001b[0m\u001b[0;34m\u001b[0m\u001b[0m\n\u001b[0;32m---> 39\u001b[0;31m                                                                        maximum_iterations=max_target_sequence_length)\n\u001b[0m\u001b[1;32m     40\u001b[0m \u001b[0;34m\u001b[0m\u001b[0m\n\u001b[1;32m     41\u001b[0m     \u001b[0;31m# 5. Predicting decoder\u001b[0m\u001b[0;34m\u001b[0m\u001b[0;34m\u001b[0m\u001b[0m\n",
      "\u001b[0;31mValueError\u001b[0m: too many values to unpack (expected 2)"
     ]
    }
   ],
   "source": [
    "#construct graph\n",
    "train_graph = tf.Graph()\n",
    "\n",
    "with train_graph.as_default():\n",
    "    \n",
    "    # get the inputs of the model\n",
    "    input_data,targets,lr,target_sequence_length,max_target_sequence_length,source_sequence_length = get_inputs()\n",
    "    \n",
    "    training_decoder_output,predicting_decoder_output = seq2seq_model(input_data,\n",
    "                                                                     targets,\n",
    "                                                                     lr,\n",
    "                                                                     target_sequence_length,\n",
    "                                                                     max_target_sequence_length,\n",
    "                                                                     source_sequence_length,\n",
    "                                                                     len(source_letter_to_int),\n",
    "                                                                     len(target_letter_to_int),\n",
    "                                                                     encoding_embedding_size,\n",
    "                                                                     decoding_embedding_size,\n",
    "                                                                     rnn_size,\n",
    "                                                                     num_layers)\n",
    "    \n",
    "    training_logits = tf.identity(training_decoder_output.rnn_output,'logits')\n",
    "    predicting_logits = tf.identity(predicting_decoder_output.sample_id,name='predictions')\n",
    "    \n",
    "    masks = tf.sequence_mask(target_sequence_length,max_target_sequence_length,dtype=tf.float32,\n",
    "                            name='masks')\n",
    "    \n",
    "    with tf.name_scope('optimization'):\n",
    "        \n",
    "        # loss function\n",
    "        cost = tf.contrib.seq2seq.sequence_loss(training_logits,\n",
    "                                               targets,masks)\n",
    "        \n",
    "        # optimizer\n",
    "        optimizer = tf.train.AdamOptimizer(lr)\n",
    "        \n",
    "        # gradient clipping\n",
    "        gradients = optimizer.compute_gradients(cost)\n",
    "        capped_gradients = [(tf.clip_by_value(grad,-5.,5.),var) for grad,var in gradients if grad is not None]\n",
    "        train_op = optimizer.apply_gradients(capped_gradients)"
   ]
  },
  {
   "cell_type": "code",
   "execution_count": null,
   "metadata": {
    "collapsed": true
   },
   "outputs": [],
   "source": []
  }
 ],
 "metadata": {
  "kernelspec": {
   "display_name": "Python 3",
   "language": "python",
   "name": "python3"
  },
  "language_info": {
   "codemirror_mode": {
    "name": "ipython",
    "version": 3
   },
   "file_extension": ".py",
   "mimetype": "text/x-python",
   "name": "python",
   "nbconvert_exporter": "python",
   "pygments_lexer": "ipython3",
   "version": "3.6.2"
  }
 },
 "nbformat": 4,
 "nbformat_minor": 2
}
