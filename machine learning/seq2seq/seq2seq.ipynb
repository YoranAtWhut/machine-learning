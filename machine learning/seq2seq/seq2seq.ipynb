{
 "cells": [
  {
   "cell_type": "code",
   "execution_count": 22,
   "metadata": {
    "collapsed": true
   },
   "outputs": [],
   "source": [
    "from distutils.version import LooseVersion"
   ]
  },
  {
   "cell_type": "code",
   "execution_count": 23,
   "metadata": {},
   "outputs": [
    {
     "name": "stdout",
     "output_type": "stream",
     "text": [
      "tensorflow version: 1.3.0\n"
     ]
    }
   ],
   "source": [
    "import tensorflow as tf\n",
    "from tensorflow.python.layers.core import Dense\n",
    "\n",
    "#check tensorflow version\n",
    "assert LooseVersion(tf.__version__) >= LooseVersion('1.1'),'please use tensorflow version 1.1 or newer'\n",
    "print('tensorflow version: {}'.format(tf.__version__))"
   ]
  },
  {
   "cell_type": "code",
   "execution_count": 24,
   "metadata": {
    "collapsed": true
   },
   "outputs": [],
   "source": [
    "import numpy as np\n",
    "import time\n",
    "\n",
    "with open('data/letters_source.txt','r',encoding='utf8') as f:\n",
    "    source_data = f.read()\n",
    "\n",
    "with open('data/letters_target.txt','r',encoding='utf8') as f:\n",
    "    target_data = f.read()"
   ]
  },
  {
   "cell_type": "code",
   "execution_count": 25,
   "metadata": {},
   "outputs": [
    {
     "data": {
      "text/plain": [
       "['bsaqq',\n",
       " 'npy',\n",
       " 'lbwuj',\n",
       " 'bqv',\n",
       " 'kial',\n",
       " 'tddam',\n",
       " 'edxpjpg',\n",
       " 'nspv',\n",
       " 'huloz',\n",
       " 'kmclq']"
      ]
     },
     "execution_count": 25,
     "metadata": {},
     "output_type": "execute_result"
    }
   ],
   "source": [
    "# data preview\n",
    "source_data.split('\\n')[:10]"
   ]
  },
  {
   "cell_type": "code",
   "execution_count": 26,
   "metadata": {},
   "outputs": [
    {
     "data": {
      "text/plain": [
       "['abqqs',\n",
       " 'npy',\n",
       " 'bjluw',\n",
       " 'bqv',\n",
       " 'aikl',\n",
       " 'addmt',\n",
       " 'degjppx',\n",
       " 'npsv',\n",
       " 'hlouz',\n",
       " 'cklmq']"
      ]
     },
     "execution_count": 26,
     "metadata": {},
     "output_type": "execute_result"
    }
   ],
   "source": [
    "target_data.split('\\n')[:10]"
   ]
  },
  {
   "cell_type": "code",
   "execution_count": 27,
   "metadata": {
    "collapsed": true
   },
   "outputs": [],
   "source": [
    "#data preprocess\n",
    "def extract_character_vocab(data):\n",
    "    '''\n",
    "    construct mapping table\n",
    "    '''\n",
    "    special_words = ['<PAD>','<UNK>','<GO>','<EOS>']\n",
    "    \n",
    "    set_words = list(set([character for line in data.split('\\n') for character in line]))\n",
    "    # add the four special words into the vocabulary\n",
    "    int_to_vocab = {idx:word for idx,word in enumerate(special_words+set_words)}\n",
    "    vocab_to_int = {word:idx for idx,word in int_to_vocab.items()}\n",
    "    \n",
    "    return int_to_vocab,vocab_to_int"
   ]
  },
  {
   "cell_type": "code",
   "execution_count": 28,
   "metadata": {
    "collapsed": true
   },
   "outputs": [],
   "source": [
    "#construct the mapping table\n",
    "source_int_to_letter,source_letter_to_int = extract_character_vocab(source_data)\n",
    "target_int_to_letter,target_letter_to_int = extract_character_vocab(target_data)\n",
    "\n",
    "#transform the raw data\n",
    "source_int = [[source_letter_to_int.get(letter,source_letter_to_int['<UNK>'])\n",
    "              for letter in line] for line in source_data.split('\\n')]\n",
    "target_int = [[target_letter_to_int.get(letter,target_letter_to_int['<UNK>'])\n",
    "              for letter in line] + [target_letter_to_int['<EOS>']] for line in target_data.split('\\n')]"
   ]
  },
  {
   "cell_type": "code",
   "execution_count": 29,
   "metadata": {},
   "outputs": [
    {
     "data": {
      "text/plain": [
       "[[14, 25, 18, 22, 22],\n",
       " [15, 6, 13],\n",
       " [5, 14, 9, 4, 20],\n",
       " [14, 22, 27],\n",
       " [19, 16, 18, 5],\n",
       " [23, 11, 11, 18, 24],\n",
       " [26, 11, 12, 6, 20, 6, 21],\n",
       " [15, 25, 6, 27],\n",
       " [29, 4, 5, 7, 8],\n",
       " [19, 24, 17, 5, 22]]"
      ]
     },
     "execution_count": 29,
     "metadata": {},
     "output_type": "execute_result"
    }
   ],
   "source": [
    "#check the result of the transformation\n",
    "source_int[:10]"
   ]
  },
  {
   "cell_type": "code",
   "execution_count": 30,
   "metadata": {},
   "outputs": [
    {
     "data": {
      "text/plain": [
       "[[18, 14, 22, 22, 25, 3],\n",
       " [15, 6, 13, 3],\n",
       " [14, 20, 5, 4, 9, 3],\n",
       " [14, 22, 27, 3],\n",
       " [18, 16, 19, 5, 3],\n",
       " [18, 11, 11, 24, 23, 3],\n",
       " [11, 26, 21, 20, 6, 6, 12, 3],\n",
       " [15, 6, 25, 27, 3],\n",
       " [29, 5, 7, 4, 8, 3],\n",
       " [17, 19, 5, 24, 22, 3]]"
      ]
     },
     "execution_count": 30,
     "metadata": {},
     "output_type": "execute_result"
    }
   ],
   "source": [
    "target_int[:10]"
   ]
  },
  {
   "cell_type": "code",
   "execution_count": 31,
   "metadata": {
    "collapsed": true
   },
   "outputs": [],
   "source": [
    "#construct the model"
   ]
  },
  {
   "cell_type": "code",
   "execution_count": 32,
   "metadata": {
    "collapsed": true
   },
   "outputs": [],
   "source": [
    "#input layer\n",
    "def get_inputs():\n",
    "    '''\n",
    "    model input tensor\n",
    "    '''\n",
    "    inputs = tf.placeholder(tf.int32,[None,None],name='inputs')\n",
    "    targets = tf.placeholder(tf.int32,[None,None],name='targets')\n",
    "    learning_rate = tf.placeholder(tf.float32,name='learning_rate')\n",
    "    \n",
    "    # define the maximum length of the sequence\n",
    "    target_sequence_length = tf.placeholder(tf.int32,(None,),name='target_sequence_length')\n",
    "    max_target_sequence_length = tf.reduce_max(target_sequence_length,name='max_target_len')\n",
    "    source_sequence_length = tf.placeholder(tf.int32,(None,),name='source_sequence_length')\n",
    "    \n",
    "    return inputs,targets,learning_rate,target_sequence_length,max_target_sequence_length,source_sequence_length"
   ]
  },
  {
   "cell_type": "code",
   "execution_count": 33,
   "metadata": {
    "collapsed": true
   },
   "outputs": [],
   "source": [
    "def get_encoder_layer(input_data,rnn_size,num_layers,\n",
    "                     source_sequence_length,source_vocab_size,\n",
    "                     encoding_embedding_size):\n",
    "    '''\n",
    "    construct Encoder layer\n",
    "    \n",
    "    params definition:\n",
    "    - input_data: input tensor\n",
    "    - rnn_size: rnn hidden units number\n",
    "    - num_layers: the number of layers\n",
    "    - source_sequence_length: the size of source data\n",
    "    - encoding_embedding_size: the size of embedding\n",
    "    '''\n",
    "    # Encoder embedding\n",
    "    encoder_embed_input = tf.contrib.layers.embed_sequence(input_data,source_vocab_size,\n",
    "                                                          encoding_embedding_size)\n",
    "    \n",
    "    # RNN cell\n",
    "    def get_lstm_cell(rnn_size):\n",
    "        lstm_cell = tf.contrib.rnn.LSTMCell(rnn_size,initializer=tf.random_uniform_initializer(-0.1,0.1,seed=2))\n",
    "        return lstm_cell\n",
    "    \n",
    "    cell = tf.contrib.rnn.MultiRNNCell([get_lstm_cell(rnn_size) for _ in range(num_layers)])\n",
    "    \n",
    "    encoder_output,encoder_state = tf.nn.dynamic_rnn(cell,encoder_embed_input,\n",
    "                                                    sequence_length=source_sequence_length,dtype=tf.float32)\n",
    "    return encoder_output,encoder_state"
   ]
  },
  {
   "cell_type": "code",
   "execution_count": 34,
   "metadata": {
    "collapsed": true
   },
   "outputs": [],
   "source": [
    "def process_decoder_input(data,vocab_to_int,batch_size):\n",
    "    '''\n",
    "    supply <GO>, remove the last character\n",
    "    '''\n",
    "    # cut the last character\n",
    "    # tf.strided_slice(input_, start, end, strides)\n",
    "    ending = tf.strided_slice(data,[0,0],[batch_size,-1],[1,1])\n",
    "    decoder_input = tf.concat([tf.fill([batch_size,1],vocab_to_int['<GO>']),ending],1)\n",
    "    \n",
    "    return decoder_input"
   ]
  },
  {
   "cell_type": "code",
   "execution_count": 35,
   "metadata": {
    "collapsed": true
   },
   "outputs": [],
   "source": [
    "def decoding_layer(target_letter_to_int,decoding_embedding_size,num_layers,rnn_size,\n",
    "                  target_sequence_length,max_target_sequence,encoder_state,decoder_input):\n",
    "    '''\n",
    "    construct the decoder layer\n",
    "    \n",
    "    @params:\n",
    "    - target_letter_to_int: target data\n",
    "    - decoding_embedding_size: embed size\n",
    "    - num_layers: the number of RNN layers\n",
    "    - rnn_size: the number of rnn units\n",
    "    - target_sequence_length: target data length\n",
    "    - max_target_sequence_length: the maximum length of target data sequences\n",
    "    - encoder_state: the state vector of encoder RNN\n",
    "    - decoder_input: decoder input\n",
    "    '''\n",
    "    # 1. Embedding\n",
    "    target_vocab_size = len(target_letter_to_int)\n",
    "    decoder_embeddings = tf.Variable(tf.random_uniform([target_vocab_size,decoding_embedding_size]))\n",
    "    decoder_embed_input = tf.nn.embedding_lookup(decoder_embeddings,decoder_input)\n",
    "    \n",
    "    # 2. construct the rnn cell of decoder\n",
    "    def get_decoder_cell(rnn_size):\n",
    "        decoder_cell = tf.contrib.rnn.LSTMCell(rnn_size,initializer=tf.random_uniform_initializer(-0.1,0.1,seed=2))\n",
    "        return decoder_cell\n",
    "    cell = tf.contrib.rnn.MultiRNNCell([get_decoder_cell(rnn_size) for _ in range(num_layers)])\n",
    "    \n",
    "    # 3. construct the fully connected layer\n",
    "    output_layer = Dense(target_vocab_size,kernel_initializer=tf.truncated_normal_initializer(mean=0.0,stddev=0.1))\n",
    "    \n",
    "    # 4. training decoder\n",
    "    with tf.variable_scope('decoder'):\n",
    "        training_helper = tf.contrib.seq2seq.TrainingHelper(inputs=decoder_embed_input,\n",
    "                                                            sequence_length=target_sequence_length,time_major=False)\n",
    "        # construct decoder\n",
    "        training_decoder = tf.contrib.seq2seq.BasicDecoder(cell,training_helper,encoder_state,\n",
    "                                                          output_layer)\n",
    "        training_decoder_output, _,tmp_length = tf.contrib.seq2seq.dynamic_decode(training_decoder,\n",
    "                                                                       impute_finished=True,\n",
    "                                                                       maximum_iterations=max_target_sequence_length)\n",
    "    \n",
    "    # 5. Predicting decoder\n",
    "    # share parameters with training\n",
    "    with tf.variable_scope('decoder',reuse=True):\n",
    "        # construct a constant tensor which has the size of batch_size\n",
    "        start_tokens = tf.tile(tf.constant([target_letter_to_int['<GO>']],dtype=tf.int32),[batch_size],name='start_tokens')\n",
    "        predicting_helper = tf.contrib.seq2seq.GreedyEmbeddingHelper(decoder_embeddings,\n",
    "                                                                    start_tokens,\n",
    "                                                                    target_letter_to_int['<EOS>'])\n",
    "        predicting_decoder = tf.contrib.seq2seq.BasicDecoder(cell,predicting_helper,\n",
    "                                                            encoder_state,\n",
    "                                                            output_layer)\n",
    "        predicting_decoder_output,_,tmp_length = tf.contrib.seq2seq.dynamic_decode(predicting_decoder,\n",
    "                                                                       impute_finished=True,\n",
    "                                                                       maximum_iterations=max_target_sequence_length)\n",
    "        \n",
    "    return training_decoder_output,predicting_decoder_output        "
   ]
  },
  {
   "cell_type": "code",
   "execution_count": 36,
   "metadata": {
    "collapsed": true
   },
   "outputs": [],
   "source": [
    "def seq2seq_model(input_data,targets,lr,target_sequence_length,\n",
    "                 max_target_sequence_length,source_sequence_length,\n",
    "                 source_vocab_size,target_vocab_size,encoder_embedding_size,\n",
    "                 decoder_embedding_size,rnn_size,num_layers):\n",
    "    \n",
    "    # get the state from encoder\n",
    "    _,encoder_state = get_encoder_layer(input_data,rnn_size,num_layers,\n",
    "                                       source_sequence_length,source_vocab_size,\n",
    "                                       encoding_embedding_size)\n",
    "    # the inputs of decoder\n",
    "    decoder_input = process_decoder_input(targets,target_letter_to_int,batch_size)\n",
    "    \n",
    "    # pass the state vector to decoder\n",
    "    training_decoder_output,predicting_decoder_output = decoding_layer(target_letter_to_int,\n",
    "                                                                      decoding_embedding_size,\n",
    "                                                                      num_layers,\n",
    "                                                                      rnn_size,\n",
    "                                                                      target_sequence_length,\n",
    "                                                                      max_target_sequence_length,\n",
    "                                                                      encoder_state,\n",
    "                                                                      decoder_input)\n",
    "    return training_decoder_output,predicting_decoder_output"
   ]
  },
  {
   "cell_type": "code",
   "execution_count": 37,
   "metadata": {
    "collapsed": true
   },
   "outputs": [],
   "source": [
    "# hyperparams\n",
    "# number of epochs\n",
    "epochs = 60\n",
    "# batch size\n",
    "batch_size = 128\n",
    "# rnn size\n",
    "rnn_size = 50\n",
    "# number of layers\n",
    "num_layers = 2\n",
    "# embedding_size\n",
    "encoding_embedding_size = 15\n",
    "decoding_embedding_size = 15\n",
    "# learning rate\n",
    "learning_rate = 0.001"
   ]
  },
  {
   "cell_type": "code",
   "execution_count": 38,
   "metadata": {},
   "outputs": [],
   "source": [
    "#construct graph\n",
    "train_graph = tf.Graph()\n",
    "\n",
    "with train_graph.as_default():\n",
    "    \n",
    "    # get the inputs of the model\n",
    "    input_data,targets,lr,target_sequence_length,max_target_sequence_length,source_sequence_length = get_inputs()\n",
    "    \n",
    "    training_decoder_output,predicting_decoder_output = seq2seq_model(input_data,\n",
    "                                                                     targets,\n",
    "                                                                     lr,\n",
    "                                                                     target_sequence_length,\n",
    "                                                                     max_target_sequence_length,\n",
    "                                                                     source_sequence_length,\n",
    "                                                                     len(source_letter_to_int),\n",
    "                                                                     len(target_letter_to_int),\n",
    "                                                                     encoding_embedding_size,\n",
    "                                                                     decoding_embedding_size,\n",
    "                                                                     rnn_size,\n",
    "                                                                     num_layers)\n",
    "    \n",
    "    training_logits = tf.identity(training_decoder_output.rnn_output,'logits')\n",
    "    predicting_logits = tf.identity(predicting_decoder_output.sample_id,name='predictions')\n",
    "    \n",
    "    masks = tf.sequence_mask(target_sequence_length,max_target_sequence_length,dtype=tf.float32,\n",
    "                            name='masks')\n",
    "    \n",
    "    with tf.name_scope('optimization'):\n",
    "        \n",
    "        # loss function\n",
    "        cost = tf.contrib.seq2seq.sequence_loss(training_logits,\n",
    "                                               targets,masks)\n",
    "        \n",
    "        # optimizer\n",
    "        optimizer = tf.train.AdamOptimizer(lr)\n",
    "        \n",
    "        # gradient clipping\n",
    "        gradients = optimizer.compute_gradients(cost)\n",
    "        capped_gradients = [(tf.clip_by_value(grad,-5.,5.),var) for grad,var in gradients if grad is not None]\n",
    "        train_op = optimizer.apply_gradients(capped_gradients)"
   ]
  },
  {
   "cell_type": "code",
   "execution_count": 39,
   "metadata": {
    "collapsed": true
   },
   "outputs": [],
   "source": [
    "#batches\n",
    "def pad_sentence_batch(sentence_batch,pad_int):\n",
    "    '''\n",
    "    对batch中的序列进行补全，保证batch中的每行都有相同的sequence_length\n",
    "    \n",
    "    @params:\n",
    "    - sentence batch\n",
    "    - pad_int: <PAD>对应索引号\n",
    "    '''\n",
    "    max_sentence = max([len(sentence) for sentence in sentence_batch])\n",
    "    return [sentence + [pad_int]*(max_sentence - len(sentence)) for sentence in sentence_batch]"
   ]
  },
  {
   "cell_type": "code",
   "execution_count": 42,
   "metadata": {
    "collapsed": true
   },
   "outputs": [],
   "source": [
    "def get_batches(targets,sources,batch_size,source_pad_int,target_pad_int):\n",
    "    '''\n",
    "    define generator to obtain batch\n",
    "    '''\n",
    "    for batch_i in range(0,len(sources)//batch_size):\n",
    "        start_i = batch_i * batch_size\n",
    "        sources_batch = sources[start_i:start_i+batch_size]\n",
    "        targets_batch = targets[start_i:start_i+batch_size]\n",
    "        \n",
    "        #pad\n",
    "        pad_sources_batch = np.array(pad_sentence_batch(sources_batch,source_pad_int))\n",
    "        pad_targets_batch = np.array(pad_sentence_batch(targets_batch,target_pad_int))\n",
    "        \n",
    "        #calculate the length of every sample\n",
    "        targets_lengths = []\n",
    "        for target in targets_batch:\n",
    "            targets_lengths.append(len(target))\n",
    "        \n",
    "        sources_lengths = []\n",
    "        for source in sources_batch:\n",
    "            sources_lengths.append(len(source))\n",
    "        \n",
    "        yield pad_targets_batch,pad_sources_batch,targets_lengths,sources_lengths"
   ]
  },
  {
   "cell_type": "code",
   "execution_count": 43,
   "metadata": {},
   "outputs": [
    {
     "name": "stdout",
     "output_type": "stream",
     "text": [
      "Epoch   1/60 Batch    0/77 - Training Loss:  3.404  - Validation loss:  3.400\n",
      "Epoch   1/60 Batch   50/77 - Training Loss:  2.936  - Validation loss:  2.927\n",
      "Epoch   2/60 Batch    0/77 - Training Loss:  2.586  - Validation loss:  2.595\n",
      "Epoch   2/60 Batch   50/77 - Training Loss:  2.182  - Validation loss:  2.170\n",
      "Epoch   3/60 Batch    0/77 - Training Loss:  2.008  - Validation loss:  1.991\n",
      "Epoch   3/60 Batch   50/77 - Training Loss:  1.776  - Validation loss:  1.750\n",
      "Epoch   4/60 Batch    0/77 - Training Loss:  1.649  - Validation loss:  1.646\n",
      "Epoch   4/60 Batch   50/77 - Training Loss:  1.506  - Validation loss:  1.477\n",
      "Epoch   5/60 Batch    0/77 - Training Loss:  1.395  - Validation loss:  1.388\n",
      "Epoch   5/60 Batch   50/77 - Training Loss:  1.304  - Validation loss:  1.252\n",
      "Epoch   6/60 Batch    0/77 - Training Loss:  1.212  - Validation loss:  1.187\n",
      "Epoch   6/60 Batch   50/77 - Training Loss:  1.134  - Validation loss:  1.080\n",
      "Epoch   7/60 Batch    0/77 - Training Loss:  1.060  - Validation loss:  1.027\n",
      "Epoch   7/60 Batch   50/77 - Training Loss:  1.002  - Validation loss:  0.945\n",
      "Epoch   8/60 Batch    0/77 - Training Loss:  0.927  - Validation loss:  0.898\n",
      "Epoch   8/60 Batch   50/77 - Training Loss:  0.880  - Validation loss:  0.819\n",
      "Epoch   9/60 Batch    0/77 - Training Loss:  0.798  - Validation loss:  0.780\n",
      "Epoch   9/60 Batch   50/77 - Training Loss:  0.758  - Validation loss:  0.709\n",
      "Epoch  10/60 Batch    0/77 - Training Loss:  0.695  - Validation loss:  0.673\n",
      "Epoch  10/60 Batch   50/77 - Training Loss:  0.648  - Validation loss:  0.611\n",
      "Epoch  11/60 Batch    0/77 - Training Loss:  0.603  - Validation loss:  0.575\n",
      "Epoch  11/60 Batch   50/77 - Training Loss:  0.553  - Validation loss:  0.518\n",
      "Epoch  12/60 Batch    0/77 - Training Loss:  0.528  - Validation loss:  0.495\n",
      "Epoch  12/60 Batch   50/77 - Training Loss:  0.477  - Validation loss:  0.441\n",
      "Epoch  13/60 Batch    0/77 - Training Loss:  0.448  - Validation loss:  0.424\n",
      "Epoch  13/60 Batch   50/77 - Training Loss:  0.425  - Validation loss:  0.381\n",
      "Epoch  14/60 Batch    0/77 - Training Loss:  0.383  - Validation loss:  0.368\n",
      "Epoch  14/60 Batch   50/77 - Training Loss:  0.367  - Validation loss:  0.334\n",
      "Epoch  15/60 Batch    0/77 - Training Loss:  0.335  - Validation loss:  0.311\n",
      "Epoch  15/60 Batch   50/77 - Training Loss:  0.310  - Validation loss:  0.284\n",
      "Epoch  16/60 Batch    0/77 - Training Loss:  0.286  - Validation loss:  0.268\n",
      "Epoch  16/60 Batch   50/77 - Training Loss:  0.259  - Validation loss:  0.238\n",
      "Epoch  17/60 Batch    0/77 - Training Loss:  0.239  - Validation loss:  0.227\n",
      "Epoch  17/60 Batch   50/77 - Training Loss:  0.225  - Validation loss:  0.204\n",
      "Epoch  18/60 Batch    0/77 - Training Loss:  0.204  - Validation loss:  0.195\n",
      "Epoch  18/60 Batch   50/77 - Training Loss:  0.200  - Validation loss:  0.180\n",
      "Epoch  19/60 Batch    0/77 - Training Loss:  0.173  - Validation loss:  0.162\n",
      "Epoch  19/60 Batch   50/77 - Training Loss:  0.166  - Validation loss:  0.156\n",
      "Epoch  20/60 Batch    0/77 - Training Loss:  0.148  - Validation loss:  0.141\n",
      "Epoch  20/60 Batch   50/77 - Training Loss:  0.144  - Validation loss:  0.136\n",
      "Epoch  21/60 Batch    0/77 - Training Loss:  0.128  - Validation loss:  0.125\n",
      "Epoch  21/60 Batch   50/77 - Training Loss:  0.127  - Validation loss:  0.118\n",
      "Epoch  22/60 Batch    0/77 - Training Loss:  0.112  - Validation loss:  0.111\n",
      "Epoch  22/60 Batch   50/77 - Training Loss:  0.111  - Validation loss:  0.104\n",
      "Epoch  23/60 Batch    0/77 - Training Loss:  0.100  - Validation loss:  0.099\n",
      "Epoch  23/60 Batch   50/77 - Training Loss:  0.098  - Validation loss:  0.092\n",
      "Epoch  24/60 Batch    0/77 - Training Loss:  0.091  - Validation loss:  0.091\n",
      "Epoch  24/60 Batch   50/77 - Training Loss:  0.086  - Validation loss:  0.081\n",
      "Epoch  25/60 Batch    0/77 - Training Loss:  0.081  - Validation loss:  0.083\n",
      "Epoch  25/60 Batch   50/77 - Training Loss:  0.077  - Validation loss:  0.072\n",
      "Epoch  26/60 Batch    0/77 - Training Loss:  0.072  - Validation loss:  0.076\n",
      "Epoch  26/60 Batch   50/77 - Training Loss:  0.068  - Validation loss:  0.066\n",
      "Epoch  27/60 Batch    0/77 - Training Loss:  0.063  - Validation loss:  0.068\n",
      "Epoch  27/60 Batch   50/77 - Training Loss:  0.059  - Validation loss:  0.060\n",
      "Epoch  28/60 Batch    0/77 - Training Loss:  0.056  - Validation loss:  0.061\n",
      "Epoch  28/60 Batch   50/77 - Training Loss:  0.051  - Validation loss:  0.054\n",
      "Epoch  29/60 Batch    0/77 - Training Loss:  0.050  - Validation loss:  0.055\n",
      "Epoch  29/60 Batch   50/77 - Training Loss:  0.047  - Validation loss:  0.049\n",
      "Epoch  30/60 Batch    0/77 - Training Loss:  0.045  - Validation loss:  0.050\n",
      "Epoch  30/60 Batch   50/77 - Training Loss:  0.042  - Validation loss:  0.045\n",
      "Epoch  31/60 Batch    0/77 - Training Loss:  0.041  - Validation loss:  0.046\n",
      "Epoch  31/60 Batch   50/77 - Training Loss:  0.038  - Validation loss:  0.042\n",
      "Epoch  32/60 Batch    0/77 - Training Loss:  0.038  - Validation loss:  0.042\n",
      "Epoch  32/60 Batch   50/77 - Training Loss:  0.034  - Validation loss:  0.039\n",
      "Epoch  33/60 Batch    0/77 - Training Loss:  0.035  - Validation loss:  0.039\n",
      "Epoch  33/60 Batch   50/77 - Training Loss:  0.031  - Validation loss:  0.036\n",
      "Epoch  34/60 Batch    0/77 - Training Loss:  0.032  - Validation loss:  0.036\n",
      "Epoch  34/60 Batch   50/77 - Training Loss:  0.029  - Validation loss:  0.034\n",
      "Epoch  35/60 Batch    0/77 - Training Loss:  0.029  - Validation loss:  0.033\n",
      "Epoch  35/60 Batch   50/77 - Training Loss:  0.026  - Validation loss:  0.032\n",
      "Epoch  36/60 Batch    0/77 - Training Loss:  0.026  - Validation loss:  0.030\n",
      "Epoch  36/60 Batch   50/77 - Training Loss:  0.024  - Validation loss:  0.030\n",
      "Epoch  37/60 Batch    0/77 - Training Loss:  0.024  - Validation loss:  0.028\n",
      "Epoch  37/60 Batch   50/77 - Training Loss:  0.022  - Validation loss:  0.028\n",
      "Epoch  38/60 Batch    0/77 - Training Loss:  0.022  - Validation loss:  0.026\n",
      "Epoch  38/60 Batch   50/77 - Training Loss:  0.021  - Validation loss:  0.027\n",
      "Epoch  39/60 Batch    0/77 - Training Loss:  0.020  - Validation loss:  0.025\n",
      "Epoch  39/60 Batch   50/77 - Training Loss:  0.019  - Validation loss:  0.026\n",
      "Epoch  40/60 Batch    0/77 - Training Loss:  0.019  - Validation loss:  0.025\n",
      "Epoch  40/60 Batch   50/77 - Training Loss:  0.018  - Validation loss:  0.025\n",
      "Epoch  41/60 Batch    0/77 - Training Loss:  0.018  - Validation loss:  0.025\n",
      "Epoch  41/60 Batch   50/77 - Training Loss:  0.017  - Validation loss:  0.025\n",
      "Epoch  42/60 Batch    0/77 - Training Loss:  0.017  - Validation loss:  0.024\n",
      "Epoch  42/60 Batch   50/77 - Training Loss:  0.015  - Validation loss:  0.024\n",
      "Epoch  43/60 Batch    0/77 - Training Loss:  0.015  - Validation loss:  0.023\n",
      "Epoch  43/60 Batch   50/77 - Training Loss:  0.015  - Validation loss:  0.022\n",
      "Epoch  44/60 Batch    0/77 - Training Loss:  0.014  - Validation loss:  0.023\n",
      "Epoch  44/60 Batch   50/77 - Training Loss:  0.013  - Validation loss:  0.021\n",
      "Epoch  45/60 Batch    0/77 - Training Loss:  0.013  - Validation loss:  0.020\n",
      "Epoch  45/60 Batch   50/77 - Training Loss:  0.012  - Validation loss:  0.019\n",
      "Epoch  46/60 Batch    0/77 - Training Loss:  0.012  - Validation loss:  0.017\n",
      "Epoch  46/60 Batch   50/77 - Training Loss:  0.012  - Validation loss:  0.017\n",
      "Epoch  47/60 Batch    0/77 - Training Loss:  0.011  - Validation loss:  0.017\n",
      "Epoch  47/60 Batch   50/77 - Training Loss:  0.011  - Validation loss:  0.016\n",
      "Epoch  48/60 Batch    0/77 - Training Loss:  0.010  - Validation loss:  0.018\n",
      "Epoch  48/60 Batch   50/77 - Training Loss:  0.011  - Validation loss:  0.016\n",
      "Epoch  49/60 Batch    0/77 - Training Loss:  0.010  - Validation loss:  0.018\n",
      "Epoch  49/60 Batch   50/77 - Training Loss:  0.010  - Validation loss:  0.015\n",
      "Epoch  50/60 Batch    0/77 - Training Loss:  0.009  - Validation loss:  0.017\n",
      "Epoch  50/60 Batch   50/77 - Training Loss:  0.009  - Validation loss:  0.014\n",
      "Epoch  51/60 Batch    0/77 - Training Loss:  0.009  - Validation loss:  0.015\n",
      "Epoch  51/60 Batch   50/77 - Training Loss:  0.008  - Validation loss:  0.013\n",
      "Epoch  52/60 Batch    0/77 - Training Loss:  0.008  - Validation loss:  0.013\n",
      "Epoch  52/60 Batch   50/77 - Training Loss:  0.008  - Validation loss:  0.013\n",
      "Epoch  53/60 Batch    0/77 - Training Loss:  0.008  - Validation loss:  0.012\n",
      "Epoch  53/60 Batch   50/77 - Training Loss:  0.007  - Validation loss:  0.012\n"
     ]
    },
    {
     "name": "stdout",
     "output_type": "stream",
     "text": [
      "Epoch  54/60 Batch    0/77 - Training Loss:  0.007  - Validation loss:  0.011\n",
      "Epoch  54/60 Batch   50/77 - Training Loss:  0.007  - Validation loss:  0.011\n",
      "Epoch  55/60 Batch    0/77 - Training Loss:  0.007  - Validation loss:  0.011\n",
      "Epoch  55/60 Batch   50/77 - Training Loss:  0.007  - Validation loss:  0.011\n",
      "Epoch  56/60 Batch    0/77 - Training Loss:  0.006  - Validation loss:  0.010\n",
      "Epoch  56/60 Batch   50/77 - Training Loss:  0.006  - Validation loss:  0.010\n",
      "Epoch  57/60 Batch    0/77 - Training Loss:  0.006  - Validation loss:  0.010\n",
      "Epoch  57/60 Batch   50/77 - Training Loss:  0.006  - Validation loss:  0.010\n",
      "Epoch  58/60 Batch    0/77 - Training Loss:  0.006  - Validation loss:  0.009\n",
      "Epoch  58/60 Batch   50/77 - Training Loss:  0.005  - Validation loss:  0.010\n",
      "Epoch  59/60 Batch    0/77 - Training Loss:  0.005  - Validation loss:  0.009\n",
      "Epoch  59/60 Batch   50/77 - Training Loss:  0.005  - Validation loss:  0.009\n",
      "Epoch  60/60 Batch    0/77 - Training Loss:  0.005  - Validation loss:  0.008\n",
      "Epoch  60/60 Batch   50/77 - Training Loss:  0.005  - Validation loss:  0.009\n",
      "model trained and saved\n"
     ]
    }
   ],
   "source": [
    "## Train\n",
    "# split the raw dataset into train set and validation set\n",
    "train_source = source_int[batch_size:]\n",
    "train_target = target_int[batch_size:]\n",
    "# one batch for validate\n",
    "valid_source = source_int[:batch_size]\n",
    "valid_target = target_int[:batch_size]\n",
    "(valid_targets_batch,valid_sources_batch,valid_targets_lengths,valid_sources_lengths) = next(get_batches(valid_target,\n",
    "                                                valid_source,batch_size,source_letter_to_int['<PAD>'],\n",
    "                                                target_letter_to_int['<PAD>']))\n",
    "\n",
    "display_step = 50 #print loss every 50 epochs\n",
    "\n",
    "checkpoint = \"trained_model.ckpt\"\n",
    "with tf.Session(graph=train_graph) as sess:\n",
    "    sess.run(tf.global_variables_initializer())\n",
    "    \n",
    "    for epoch_i in range(1,epochs+1):\n",
    "        for batch_i,(targets_batch,sources_batch,targets_lengths,sources_lengths) in enumerate(\n",
    "        get_batches(train_target,train_source,batch_size,\n",
    "                   source_letter_to_int['<PAD>'],\n",
    "                   target_letter_to_int['<PAD>'])):\n",
    "            _,loss = sess.run(\n",
    "            [train_op,cost],\n",
    "            {input_data:sources_batch,\n",
    "            targets:targets_batch,\n",
    "            lr:learning_rate,\n",
    "            target_sequence_length:targets_lengths,\n",
    "            source_sequence_length:sources_lengths})\n",
    "        \n",
    "            if batch_i % display_step == 0:\n",
    "                \n",
    "                # calculate validation loss\n",
    "                validation_loss = sess.run(\n",
    "                [cost],\n",
    "                {input_data:valid_sources_batch,\n",
    "                targets:valid_targets_batch,\n",
    "                lr:learning_rate,\n",
    "                target_sequence_length:valid_targets_lengths,\n",
    "                source_sequence_length:valid_sources_lengths})\n",
    "                \n",
    "                print('Epoch {:>3}/{} Batch {:>4}/{} - Training Loss: {:>6.3f}  - Validation loss: {:>6.3f}'\n",
    "                      .format(epoch_i,\n",
    "                              epochs, \n",
    "                              batch_i, \n",
    "                              len(train_source) // batch_size, \n",
    "                              loss, \n",
    "                              validation_loss[0]))\n",
    "    saver = tf.train.Saver()\n",
    "    saver.save(sess,checkpoint)\n",
    "    print('model trained and saved')"
   ]
  },
  {
   "cell_type": "code",
   "execution_count": null,
   "metadata": {
    "collapsed": true
   },
   "outputs": [],
   "source": []
  }
 ],
 "metadata": {
  "kernelspec": {
   "display_name": "Python 3",
   "language": "python",
   "name": "python3"
  },
  "language_info": {
   "codemirror_mode": {
    "name": "ipython",
    "version": 3
   },
   "file_extension": ".py",
   "mimetype": "text/x-python",
   "name": "python",
   "nbconvert_exporter": "python",
   "pygments_lexer": "ipython3",
   "version": "3.6.2"
  }
 },
 "nbformat": 4,
 "nbformat_minor": 2
}
